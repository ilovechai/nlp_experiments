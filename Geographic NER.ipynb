{
 "cells": [
  {
   "cell_type": "code",
   "execution_count": 106,
   "metadata": {},
   "outputs": [
    {
     "name": "stdout",
     "output_type": "stream",
     "text": [
      "Requirement already satisfied: geopy in /Library/Frameworks/Python.framework/Versions/3.6/lib/python3.6/site-packages (1.18.0)\n",
      "Requirement already satisfied: geographiclib<2,>=1.49 in /Library/Frameworks/Python.framework/Versions/3.6/lib/python3.6/site-packages (from geopy) (1.49)\n",
      "\u001b[33mYou are using pip version 18.1, however version 20.0.2 is available.\n",
      "You should consider upgrading via the 'pip install --upgrade pip' command.\u001b[0m\n"
     ]
    }
   ],
   "source": [
    "import sys\n",
    "#!{sys.executable} -m pip install git+https://github.com/Corollarium/geograpy\n",
    "!{sys.executable} -m pip install geopy"
   ]
  },
  {
   "cell_type": "code",
   "execution_count": 1,
   "metadata": {},
   "outputs": [],
   "source": [
    "import os\n",
    "import json\n",
    "import nltk\n",
    "import certifi\n",
    "import ssl\n",
    "import time\n",
    "import pandas as pd\n",
    "import tika.tika\n",
    "from tika import parser"
   ]
  },
  {
   "cell_type": "code",
   "execution_count": 2,
   "metadata": {},
   "outputs": [],
   "source": [
    "df = pd.read_parquet('../documents_processed.parquet')"
   ]
  },
  {
   "cell_type": "code",
   "execution_count": 3,
   "metadata": {},
   "outputs": [
    {
     "data": {
      "text/html": [
       "<div>\n",
       "<style scoped>\n",
       "    .dataframe tbody tr th:only-of-type {\n",
       "        vertical-align: middle;\n",
       "    }\n",
       "\n",
       "    .dataframe tbody tr th {\n",
       "        vertical-align: top;\n",
       "    }\n",
       "\n",
       "    .dataframe thead th {\n",
       "        text-align: right;\n",
       "    }\n",
       "</style>\n",
       "<table border=\"1\" class=\"dataframe\">\n",
       "  <thead>\n",
       "    <tr style=\"text-align: right;\">\n",
       "      <th></th>\n",
       "      <th>abstract</th>\n",
       "      <th>body_text</th>\n",
       "      <th>sha</th>\n",
       "      <th>doi_x</th>\n",
       "      <th>doi_y</th>\n",
       "      <th>source_x</th>\n",
       "      <th>journal</th>\n",
       "      <th>has_full_text</th>\n",
       "    </tr>\n",
       "  </thead>\n",
       "  <tbody>\n",
       "    <tr>\n",
       "      <th>0</th>\n",
       "      <td>Bordetella bronchiseptica isolate KM22 has bee...</td>\n",
       "      <td>20-kb insert library preparation protocol (htt...</td>\n",
       "      <td>8f8eb4f004c2002face0723f2f58cc411954d36e</td>\n",
       "      <td>http://dx.doi.org/10.1128/MRA.01207-19</td>\n",
       "      <td>http://dx.doi.org/10.1128/MRA.01207-19</td>\n",
       "      <td>PMC</td>\n",
       "      <td>Microbiol Resour Announc</td>\n",
       "      <td>True</td>\n",
       "    </tr>\n",
       "    <tr>\n",
       "      <th>1</th>\n",
       "      <td></td>\n",
       "      <td>I nfectious diseases have been an ever-present...</td>\n",
       "      <td>63f7049d200896290b38b38711113054f7ea1b50</td>\n",
       "      <td>http://dx.doi.org/10.3201/eid1104.041167</td>\n",
       "      <td>http://dx.doi.org/10.3201/eid1104.041167</td>\n",
       "      <td>PMC</td>\n",
       "      <td>Emerg Infect Dis</td>\n",
       "      <td>True</td>\n",
       "    </tr>\n",
       "    <tr>\n",
       "      <th>2</th>\n",
       "      <td>The influenza A nucleoprotein (NP) is an attra...</td>\n",
       "      <td>The transmission of a pathogenic avian H5N1 vi...</td>\n",
       "      <td>4df45b8404d9de0b376a8ae3c282a517df36fe51</td>\n",
       "      <td>http://dx.doi.org/10.1051/vetres/2009071</td>\n",
       "      <td>http://dx.doi.org/10.1051/vetres/2009071</td>\n",
       "      <td>PMC</td>\n",
       "      <td>Vet Res</td>\n",
       "      <td>True</td>\n",
       "    </tr>\n",
       "    <tr>\n",
       "      <th>3</th>\n",
       "      <td>The outbreak of severe acute respiratory syndr...</td>\n",
       "      <td>acute lung injury; inflammatory response; neut...</td>\n",
       "      <td>e0737ee93afe7b0bf06b1e3f9adf21d541dd10f0</td>\n",
       "      <td>http://dx.doi.org/10.1038/labinvest.2012.92</td>\n",
       "      <td>http://dx.doi.org/10.1038/labinvest.2012.92</td>\n",
       "      <td>PMC</td>\n",
       "      <td>Lab Invest</td>\n",
       "      <td>True</td>\n",
       "    </tr>\n",
       "    <tr>\n",
       "      <th>4</th>\n",
       "      <td>The prevalence of feline herpesvirus-1 (FHV-1)...</td>\n",
       "      <td>Feline herpesvirus type 1 (FHV-1) is the most ...</td>\n",
       "      <td>3c3572ba243d61e7631725669c8f88347fdbd5bc</td>\n",
       "      <td>http://dx.doi.org/10.4142/jvs.2008.9.2.207</td>\n",
       "      <td>http://dx.doi.org/10.4142/jvs.2008.9.2.207</td>\n",
       "      <td>PMC</td>\n",
       "      <td>J Vet Sci</td>\n",
       "      <td>True</td>\n",
       "    </tr>\n",
       "  </tbody>\n",
       "</table>\n",
       "</div>"
      ],
      "text/plain": [
       "                                            abstract  \\\n",
       "0  Bordetella bronchiseptica isolate KM22 has bee...   \n",
       "1                                                      \n",
       "2  The influenza A nucleoprotein (NP) is an attra...   \n",
       "3  The outbreak of severe acute respiratory syndr...   \n",
       "4  The prevalence of feline herpesvirus-1 (FHV-1)...   \n",
       "\n",
       "                                           body_text  \\\n",
       "0  20-kb insert library preparation protocol (htt...   \n",
       "1  I nfectious diseases have been an ever-present...   \n",
       "2  The transmission of a pathogenic avian H5N1 vi...   \n",
       "3  acute lung injury; inflammatory response; neut...   \n",
       "4  Feline herpesvirus type 1 (FHV-1) is the most ...   \n",
       "\n",
       "                                        sha  \\\n",
       "0  8f8eb4f004c2002face0723f2f58cc411954d36e   \n",
       "1  63f7049d200896290b38b38711113054f7ea1b50   \n",
       "2  4df45b8404d9de0b376a8ae3c282a517df36fe51   \n",
       "3  e0737ee93afe7b0bf06b1e3f9adf21d541dd10f0   \n",
       "4  3c3572ba243d61e7631725669c8f88347fdbd5bc   \n",
       "\n",
       "                                         doi_x  \\\n",
       "0       http://dx.doi.org/10.1128/MRA.01207-19   \n",
       "1     http://dx.doi.org/10.3201/eid1104.041167   \n",
       "2     http://dx.doi.org/10.1051/vetres/2009071   \n",
       "3  http://dx.doi.org/10.1038/labinvest.2012.92   \n",
       "4   http://dx.doi.org/10.4142/jvs.2008.9.2.207   \n",
       "\n",
       "                                         doi_y source_x  \\\n",
       "0       http://dx.doi.org/10.1128/MRA.01207-19      PMC   \n",
       "1     http://dx.doi.org/10.3201/eid1104.041167      PMC   \n",
       "2     http://dx.doi.org/10.1051/vetres/2009071      PMC   \n",
       "3  http://dx.doi.org/10.1038/labinvest.2012.92      PMC   \n",
       "4   http://dx.doi.org/10.4142/jvs.2008.9.2.207      PMC   \n",
       "\n",
       "                    journal  has_full_text  \n",
       "0  Microbiol Resour Announc           True  \n",
       "1          Emerg Infect Dis           True  \n",
       "2                   Vet Res           True  \n",
       "3                Lab Invest           True  \n",
       "4                 J Vet Sci           True  "
      ]
     },
     "execution_count": 3,
     "metadata": {},
     "output_type": "execute_result"
    }
   ],
   "source": [
    "df.head()"
   ]
  },
  {
   "cell_type": "code",
   "execution_count": null,
   "metadata": {},
   "outputs": [],
   "source": [
    "os.mkdir(\"raw_body_text\")"
   ]
  },
  {
   "cell_type": "code",
   "execution_count": null,
   "metadata": {},
   "outputs": [],
   "source": [
    "os.mkdir(\"geotopic_output\")"
   ]
  },
  {
   "cell_type": "code",
   "execution_count": null,
   "metadata": {},
   "outputs": [],
   "source": [
    "for p in df.index:\n",
    "    f = open(\"raw_body_text/\" + df['sha'][p] + \".geot\", \"a\")\n",
    "    f.write(df['body_text'][p])\n",
    "    f.close()"
   ]
  },
  {
   "cell_type": "code",
   "execution_count": null,
   "metadata": {},
   "outputs": [],
   "source": [
    "home = os.getenv('HOME')"
   ]
  },
  {
   "cell_type": "code",
   "execution_count": null,
   "metadata": {},
   "outputs": [],
   "source": [
    "tika.tika.TikaServerClasspath = '/Users/anastasia/geotopicparser-utils/mime:/Users/anastasia/geotopicparser-utils/models/polar:/Users/anastasia/geotopic-mime/tika-config.xml'\n",
    "parsed = parser.from_file(home + '/geotopicparser-utils/geotopics/polar.geot')\n",
    "#if 'org.apache.tika.parser.csv.TextAndCSVParser' in parsed[\"metadata\"]['X-Parsed-By']:\n",
    "print(parsed[\"metadata\"])"
   ]
  },
  {
   "cell_type": "code",
   "execution_count": null,
   "metadata": {},
   "outputs": [],
   "source": [
    "tika.tika.TikaServerClasspath = home + '/geotopicparser-utils/mime:'+home+'/geotopicparser-utils/models/polar'\n",
    "for file in os.listdir(\"./raw_body_text\"):\n",
    "    parsed = parser.from_file(\"./raw_body_text/\" + file)\n",
    "    if 'org.apache.tika.parser.geo.topic.GeoParser' not in parsed[\"metadata\"]['X-Parsed-By']:\n",
    "        continue\n",
    "    print(\"YES\")\n",
    "    json_object = json.dumps(parsed[\"metadata\"], indent = 4) \n",
    "    with open(\"geotopic_output/\" + os.path.basename(file).split('.')[0] + \".json\", \"w\") as outfile: \n",
    "        outfile.write(json_object) "
   ]
  },
  {
   "cell_type": "code",
   "execution_count": null,
   "metadata": {},
   "outputs": [],
   "source": [
    "# Another method through the terminal:\n",
    "\n",
    "! java -classpath tika-app-1.24.jar:$HOME/src/location-ner-model:$HOME/src/geotopic-mime org.apache.tika.cli.TikaCLI -m /Users/anastasia/Desktop/JPL_Remote/covid_19/github_repo/bert_experiments/raw_body_text/0a00a6df208e068e7aa369fb94641434ea0e6070.geot"
   ]
  },
  {
   "cell_type": "markdown",
   "metadata": {},
   "source": [
    "# ==============================================================="
   ]
  },
  {
   "cell_type": "markdown",
   "metadata": {},
   "source": [
    "# GeoText"
   ]
  },
  {
   "cell_type": "code",
   "execution_count": 6,
   "metadata": {},
   "outputs": [],
   "source": [
    "def correct_locations(locations):\n",
    "    correct_locations = []\n",
    "    for city in locations:\n",
    "        correct = True\n",
    "        tagged = nltk.pos_tag(nltk.word_tokenize(city))\n",
    "        for tup in tagged:\n",
    "            if tup[1] != 'NNP' and tup[1] != 'NNPS':\n",
    "                correct = False\n",
    "                break\n",
    "        if correct:\n",
    "            correct_locations.append(city)\n",
    "    return correct_locations"
   ]
  },
  {
   "cell_type": "code",
   "execution_count": 7,
   "metadata": {},
   "outputs": [],
   "source": [
    "def multiple_mentions(data):\n",
    "    new_geodata = {}\n",
    "    for paper in data:\n",
    "        new_geodata[paper] = {}\n",
    "        for loc in data[paper]:\n",
    "            seen = set()\n",
    "            unique = {}\n",
    "            for place in data[paper][loc]:\n",
    "                if place not in seen:\n",
    "                    unique[place] = 1\n",
    "                    seen.add(place)\n",
    "                else:\n",
    "                    unique[place] += 1\n",
    "            new_geodata[paper][loc] = unique\n",
    "    return new_geodata"
   ]
  },
  {
   "cell_type": "code",
   "execution_count": 8,
   "metadata": {},
   "outputs": [],
   "source": [
    "from geopy import geocoders \n",
    "import geopy.geocoders\n",
    "from geopy.geocoders import Nominatim\n",
    "from geopy.extra.rate_limiter import RateLimiter\n",
    "\n",
    "def get_lat_lon(data):\n",
    "    ctx = ssl.create_default_context(cafile=certifi.where())\n",
    "    geopy.geocoders.options.default_ssl_context = ctx\n",
    "    gn = geocoders.GeoNames(username=\"anastasija\")\n",
    "    geolocator = Nominatim(user_agent=\"anastasija\", timeout=10, scheme='http')\n",
    "    geoc = RateLimiter(geolocator.geocode, min_delay_seconds=2)\n",
    "    for paper in data:\n",
    "        for loc in data[paper]:\n",
    "            for place in data[paper][loc]:\n",
    "                count = data[paper][loc][place]\n",
    "                data[paper][loc][place] = {}\n",
    "                try:\n",
    "                    location = geolocator.geocode(place)\n",
    "                    data[paper][loc][place]['lat'] = location.latitude\n",
    "                    data[paper][loc][place]['lon'] = location.longitude\n",
    "                except:\n",
    "                    pass\n",
    "                data[paper][loc][place]['mentioned'] = count\n",
    "                time.sleep(0.5)\n",
    "    return data"
   ]
  },
  {
   "cell_type": "code",
   "execution_count": 9,
   "metadata": {},
   "outputs": [],
   "source": [
    "from geotext import GeoText\n",
    "\n",
    "geodata = {}\n",
    "for file in os.listdir(\"./raw_body_text\"):\n",
    "    with open(\"./raw_body_text/\" + file, 'r') as f:\n",
    "        text = f.read()\n",
    "    places = GeoText(text)\n",
    "    sha = os.path.basename(file).split('.')[0]\n",
    "    geodata[sha] = {}\n",
    "    geodata[sha][\"countries\"] = correct_locations(places.countries)\n",
    "    geodata[sha][\"cities\"] = correct_locations(places.cities)"
   ]
  },
  {
   "cell_type": "code",
   "execution_count": 10,
   "metadata": {},
   "outputs": [],
   "source": [
    "geodata_final = get_lat_lon(multiple_mentions(geodata))"
   ]
  },
  {
   "cell_type": "code",
   "execution_count": 11,
   "metadata": {},
   "outputs": [],
   "source": [
    "with open('./geodata/geo.json', 'w') as fp:\n",
    "    json.dump(geodata_final, fp, indent=4)"
   ]
  },
  {
   "cell_type": "code",
   "execution_count": 145,
   "metadata": {},
   "outputs": [
    {
     "data": {
      "text/plain": [
       "{'fd31ade73c720f893a5ddb2370df90a84511ec4a': {'countries': {'Brazil': {'lat': -10.3333333,\n",
       "    'lon': -53.2,\n",
       "    'mentioned': 14},\n",
       "   'United States': {'lat': 39.7837304, 'lon': -100.4458825, 'mentioned': 1},\n",
       "   'Germany': {'lat': 51.0834196, 'lon': 10.4234469, 'mentioned': 1},\n",
       "   'Italy': {'lat': 42.6384261, 'lon': 12.674297, 'mentioned': 1},\n",
       "   'Spain': {'lat': 39.3262345, 'lon': -4.8380649, 'mentioned': 1},\n",
       "   'Taiwan': {'lat': 23.9739374, 'lon': 120.9820179, 'mentioned': 1}},\n",
       "  'cities': {'Belo Horizonte': {'lat': -19.9227318,\n",
       "    'lon': -43.9450948,\n",
       "    'mentioned': 1},\n",
       "   'Iowa': {'lat': 41.9216734, 'lon': -93.3122705, 'mentioned': 1},\n",
       "   'São Paulo': {'lat': -23.5506507, 'lon': -46.6333824, 'mentioned': 1}}},\n",
       " '0b65341c3090421acaac37ec4c93212277be55bb': {'countries': {}, 'cities': {}}}"
      ]
     },
     "execution_count": 145,
     "metadata": {},
     "output_type": "execute_result"
    }
   ],
   "source": [
    "geodata_final"
   ]
  },
  {
   "cell_type": "code",
   "execution_count": null,
   "metadata": {},
   "outputs": [],
   "source": []
  }
 ],
 "metadata": {
  "kernelspec": {
   "display_name": "Python 3",
   "language": "python",
   "name": "python3"
  },
  "language_info": {
   "codemirror_mode": {
    "name": "ipython",
    "version": 3
   },
   "file_extension": ".py",
   "mimetype": "text/x-python",
   "name": "python",
   "nbconvert_exporter": "python",
   "pygments_lexer": "ipython3",
   "version": "3.6.0"
  }
 },
 "nbformat": 4,
 "nbformat_minor": 2
}
